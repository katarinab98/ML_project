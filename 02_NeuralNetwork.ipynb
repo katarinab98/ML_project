{
 "cells": [
  {
   "cell_type": "markdown",
   "id": "9d75597a-002c-4e56-baae-fbfadfa0b591",
   "metadata": {},
   "source": [
    "# <span style=\"color:#DC143C\">Part 3</span>"
   ]
  },
  {
   "cell_type": "markdown",
   "id": "33dcf556-32f5-44b4-bdcd-e7653f23661f",
   "metadata": {},
   "source": [
    "# <span style=\"font-size:24px; color:#552583;\">1. Libraries </span>"
   ]
  },
  {
   "cell_type": "code",
   "execution_count": 1,
   "id": "c150e173-1bcb-4a41-9756-9e307a89569a",
   "metadata": {},
   "outputs": [],
   "source": [
    "import pandas as pd\n",
    "import numpy as np\n",
    "import matplotlib.pyplot as plt\n",
    "from sklearn import metrics,preprocessing, model_selection\n",
    "\n",
    "import torch\n",
    "import torch.nn as nn\n",
    "import torch.optim as optim\n",
    "from torch.utils.data import DataLoader, TensorDataset\n",
    "from tqdm.notebook import tqdm\n"
   ]
  },
  {
   "cell_type": "code",
   "execution_count": 2,
   "id": "e65eb901-050f-4d70-9ef2-05d02ab5e7d3",
   "metadata": {},
   "outputs": [],
   "source": [
    "SEED = 24\n",
    "lakers_purple = '#552583'\n",
    "lakers_orange = '#FDB927'"
   ]
  },
  {
   "cell_type": "markdown",
   "id": "8e273b41-87d6-48d9-a567-808606e71673",
   "metadata": {},
   "source": [
    "# <span style=\"font-size:24px; color:#552583;\">2. get_device() + bind_gpu() </span>"
   ]
  },
  {
   "cell_type": "code",
   "execution_count": 3,
   "id": "5e697a31-19d9-41f8-9d94-40d422c5439b",
   "metadata": {},
   "outputs": [],
   "source": [
    "def get_device():\n",
    "    return torch.device(\"cuda\" if torch.cuda.is_available() else \"cpu\")"
   ]
  },
  {
   "cell_type": "code",
   "execution_count": 4,
   "id": "d0d5afb8-bb83-4165-9709-d37a2eae362e",
   "metadata": {},
   "outputs": [],
   "source": [
    "def bind_gpu(data):\n",
    "    device = get_device()\n",
    "    if isinstance(data (list, tuple)):\n",
    "        return [bind_gpu(data_elem) for data_elem in data]\n",
    "    else:\n",
    "        return data.to(device, non_blocking=True)"
   ]
  },
  {
   "cell_type": "markdown",
   "id": "71ac2284-616b-4c4b-8252-223d6de3a49f",
   "metadata": {},
   "source": [
    "# <span style=\"font-size:24px; color:#552583;\">3. Data handling</span>"
   ]
  },
  {
   "cell_type": "code",
   "execution_count": 5,
   "id": "03e5b3f7-4fb5-43f9-8de5-546472e42115",
   "metadata": {},
   "outputs": [],
   "source": [
    "X_train_val = pd.read_csv(\"X_train1.csv\")\n",
    "X_test = pd.read_csv(\"X_test1.csv\")\n",
    "y_train_val = pd.read_csv(\"y_train1.csv\")\n",
    "y_test = pd.read_csv(\"y_test1.csv\")"
   ]
  },
  {
   "cell_type": "code",
   "execution_count": 6,
   "id": "075d2ac4-6e52-4615-a3df-bc9571f17585",
   "metadata": {},
   "outputs": [],
   "source": [
    "X_train, X_val, y_train, y_val = model_selection.train_test_split(X_train_val,y_train_val, test_size=0.25,stratify=y_train_val, random_state=SEED)"
   ]
  },
  {
   "cell_type": "code",
   "execution_count": 7,
   "id": "512ce1c1-67ea-41c5-a88d-6abcebc67b08",
   "metadata": {},
   "outputs": [
    {
     "name": "stdout",
     "output_type": "stream",
     "text": [
      "X_train (16381, 16) <class 'pandas.core.frame.DataFrame'>\n",
      "y_train (16381, 1) <class 'pandas.core.frame.DataFrame'>\n",
      "X_valid (5461, 16) <class 'pandas.core.frame.DataFrame'>\n",
      "y_valid (5461, 1) <class 'pandas.core.frame.DataFrame'>\n",
      "X_test (3855, 16) <class 'pandas.core.frame.DataFrame'>\n",
      "y_test (3855, 1) <class 'pandas.core.frame.DataFrame'>\n"
     ]
    }
   ],
   "source": [
    "print(\"X_train\", X_train.shape, type(X_train))\n",
    "print(\"y_train\", y_train.shape, type(y_train))\n",
    "print(\"X_valid\", X_val.shape, type(X_val))\n",
    "print(\"y_valid\", y_val.shape, type(y_val))\n",
    "print(\"X_test\", X_test.shape, type(X_test))\n",
    "print(\"y_test\", y_test.shape, type(y_test))"
   ]
  },
  {
   "cell_type": "markdown",
   "id": "dd6a518f-acd6-4875-b4e1-594c88ee1a7c",
   "metadata": {},
   "source": [
    "### Scaling"
   ]
  },
  {
   "cell_type": "code",
   "execution_count": 8,
   "id": "dd74ab64-6fc7-4b68-9555-bbfab5182c37",
   "metadata": {},
   "outputs": [],
   "source": [
    "scaler = preprocessing.StandardScaler()\n",
    "scaler.fit(X_train)\n",
    "X_train = scaler.transform(X_train)\n",
    "X_val = scaler.transform(X_val)\n",
    "X_test =  scaler.transform(X_test)"
   ]
  },
  {
   "cell_type": "code",
   "execution_count": 9,
   "id": "60293863-d1dd-4395-8319-8a2cc359b371",
   "metadata": {},
   "outputs": [
    {
     "data": {
      "text/plain": [
       "pandas.core.frame.DataFrame"
      ]
     },
     "execution_count": 9,
     "metadata": {},
     "output_type": "execute_result"
    }
   ],
   "source": [
    "type(y_train)"
   ]
  },
  {
   "cell_type": "markdown",
   "id": "9540e811-b735-42a8-ae0d-1677c0e9b6ad",
   "metadata": {},
   "source": [
    "# <span style=\"font-size:24px; color:#552583;\">4. Making NN </span>"
   ]
  },
  {
   "cell_type": "code",
   "execution_count": 10,
   "id": "ca9e9275-be80-4b45-8fd1-ead586eab6c2",
   "metadata": {},
   "outputs": [],
   "source": [
    "class BinaryClassificationModel(nn.Module):\n",
    "    def __init__(self):\n",
    "        super().__init__()\n",
    "        self.fc1 = nn.Linear(16,10)\n",
    "        self.relu1 = nn.ReLU()\n",
    "        self.dropout1 = nn.Dropout(p=0.2) \n",
    "        self.fc2 = nn.Linear(10,12)\n",
    "        self.relu2 = nn.ReLU()\n",
    "        self.dropout2 = nn.Dropout(p=0.3)\n",
    "        self.fc3 = nn.Linear(12,1)\n",
    "        self.sigmoid = nn.Sigmoid()\n",
    "\n",
    "    def forward(self, x):\n",
    "        x = self.relu1(self.fc1(x))\n",
    "        x = self.dropout1(x)\n",
    "        x = self.relu2(self.fc2(x))\n",
    "        x = self.dropout2(x)\n",
    "        x = self.sigmoid(self.fc3(x))\n",
    "        return x\n",
    "        "
   ]
  },
  {
   "cell_type": "code",
   "execution_count": 11,
   "id": "b9ac3278-7261-4514-9700-4befd4a7c27a",
   "metadata": {},
   "outputs": [
    {
     "name": "stdout",
     "output_type": "stream",
     "text": [
      "BinaryClassificationModel(\n",
      "  (fc1): Linear(in_features=16, out_features=10, bias=True)\n",
      "  (relu1): ReLU()\n",
      "  (dropout1): Dropout(p=0.2, inplace=False)\n",
      "  (fc2): Linear(in_features=10, out_features=12, bias=True)\n",
      "  (relu2): ReLU()\n",
      "  (dropout2): Dropout(p=0.3, inplace=False)\n",
      "  (fc3): Linear(in_features=12, out_features=1, bias=True)\n",
      "  (sigmoid): Sigmoid()\n",
      ")\n"
     ]
    }
   ],
   "source": [
    "model = BinaryClassificationModel()\n",
    "device = get_device()\n",
    "model = model.to(device)\n",
    "print(model)"
   ]
  },
  {
   "cell_type": "code",
   "execution_count": 12,
   "id": "2db3e2c9-4a6d-4775-b983-0b05473a1279",
   "metadata": {},
   "outputs": [],
   "source": [
    "def count_parameters(model):\n",
    "  total_params = sum(p.numel() for p in model.parameters())\n",
    "  for name, layer in model.named_children():\n",
    "        num_params = sum(p.numel() for p in layer.parameters())\n",
    "        print(f\"Layer: {name}, Parameters: {num_params}\")\n",
    "\n",
    "  return total_params"
   ]
  },
  {
   "cell_type": "code",
   "execution_count": 13,
   "id": "4b263132-eb9c-4aa5-aad8-454690e4b8f6",
   "metadata": {},
   "outputs": [
    {
     "name": "stdout",
     "output_type": "stream",
     "text": [
      "Layer: fc1, Parameters: 170\n",
      "Layer: relu1, Parameters: 0\n",
      "Layer: dropout1, Parameters: 0\n",
      "Layer: fc2, Parameters: 132\n",
      "Layer: relu2, Parameters: 0\n",
      "Layer: dropout2, Parameters: 0\n",
      "Layer: fc3, Parameters: 13\n",
      "Layer: sigmoid, Parameters: 0\n"
     ]
    },
    {
     "data": {
      "text/plain": [
       "315"
      ]
     },
     "execution_count": 13,
     "metadata": {},
     "output_type": "execute_result"
    }
   ],
   "source": [
    "count_parameters(model)"
   ]
  },
  {
   "cell_type": "markdown",
   "id": "a505c705-b681-48ce-af70-a854e2839038",
   "metadata": {},
   "source": [
    "# <span style=\"font-size:24px; color:#552583;\">5.Training NN </span>"
   ]
  },
  {
   "cell_type": "code",
   "execution_count": 14,
   "id": "645c459e-ea10-4a33-aaa1-42a45bf98a9f",
   "metadata": {},
   "outputs": [],
   "source": [
    "N_EPOCHS = 100\n",
    "BATCH_SIZE = 32"
   ]
  },
  {
   "cell_type": "markdown",
   "id": "51b93cfb-719e-4e9a-8b95-b137bac574b8",
   "metadata": {},
   "source": [
    "### 5.1. numpyarray, DataFrame to Tensors"
   ]
  },
  {
   "cell_type": "code",
   "execution_count": 15,
   "id": "a056eefd-9253-4969-b3e5-e0b93d3dbadb",
   "metadata": {},
   "outputs": [],
   "source": [
    "X_train,y_train = torch.FloatTensor(X_train), torch.FloatTensor(y_train.to_numpy())\n",
    "train_dataset = TensorDataset(X_train, y_train)\n",
    "train_loader = DataLoader(dataset=train_dataset,batch_size=BATCH_SIZE,shuffle=True)\n",
    "\n",
    "X_val, y_val = torch.FloatTensor(X_val), torch.FloatTensor(y_val.to_numpy())\n",
    "valid_dataset = TensorDataset(X_val, y_val)\n",
    "valid_loader = DataLoader(dataset=valid_dataset, batch_size=BATCH_SIZE, shuffle=False)\n",
    "\n",
    "X_test, y_test = torch.FloatTensor(X_test), torch.FloatTensor(y_test.to_numpy())\n",
    "test_dataset = TensorDataset(X_test, y_test)\n",
    "test_loader = DataLoader(dataset=test_dataset, batch_size=BATCH_SIZE, shuffle=False)"
   ]
  },
  {
   "cell_type": "code",
   "execution_count": 16,
   "id": "c9ee7692-cef1-4c92-8221-083b455758d7",
   "metadata": {},
   "outputs": [],
   "source": [
    "optimizer = optim.Adam(model.parameters())\n",
    "criterion = nn.BCELoss()"
   ]
  },
  {
   "cell_type": "markdown",
   "id": "86ac9155-5a77-4ed3-b1b9-eacb2b905a74",
   "metadata": {},
   "source": [
    "### 5.2. training function"
   ]
  },
  {
   "cell_type": "code",
   "execution_count": 17,
   "id": "ddfb5a79-5649-4d98-bd7e-0ec846347e76",
   "metadata": {},
   "outputs": [],
   "source": [
    "def train_classification(number_of_epochs):\n",
    "    best_val_loss = float('inf')\n",
    "    early_stopping_patience = 10  # broj epoha koji cekamo \n",
    "    eps = 1e-6                    # minimalno poboljsanje koje ocekujemo\n",
    "    steps_since_improvement = 0\n",
    "    \n",
    "    losses_train, losses_valid = [], []\n",
    "    accuracies_train, accuracies_valid = [], []\n",
    "    device = get_device()\n",
    "\n",
    "    for epoch in tqdm(range(number_of_epochs), leave=True, desc='Epochs'):\n",
    "        running_loss_train, running_loss_valid  = 0.0, 0.0\n",
    "        correct_train, correct_valid  = 0, 0\n",
    "        total_train, total_valid = 0, 0\n",
    "\n",
    "        # Training Phase\n",
    "        model.train()\n",
    "        for inputs, labels in train_loader:\n",
    "            inputs, labels = inputs.to(device), labels.to(device)\n",
    "            optimizer.zero_grad()\n",
    "            outputs = model(inputs)\n",
    "            loss = criterion(outputs.squeeze(), labels.squeeze())  \n",
    "            loss.backward()\n",
    "            optimizer.step()\n",
    "\n",
    "            running_loss_train += loss.item()\n",
    "\n",
    "            predicted = (outputs > 0.5).float()\n",
    "            correct_train += (predicted.squeeze() == labels.squeeze()).sum().item()  # Ensure shapes match\n",
    "            total_train += labels.size(0)\n",
    "\n",
    "        epoch_loss_train = running_loss_train / len(train_loader)\n",
    "        epoch_accuracy_train = correct_train / total_train\n",
    "        losses_train.append(epoch_loss_train)\n",
    "        accuracies_train.append(epoch_accuracy_train)\n",
    "        print(f\"Epoch [{epoch + 1}/{number_of_epochs}], Train Loss: {epoch_loss_train:.4f}, Train Accuracy: {epoch_accuracy_train:.4f}\")\n",
    "\n",
    "        # Validation Phase\n",
    "        model.eval()\n",
    "        with torch.no_grad():\n",
    "            for inputs, labels in valid_loader:\n",
    "                inputs, labels = inputs.to(device), labels.to(device)\n",
    "\n",
    "                outputs = model(inputs)\n",
    "                loss = criterion(outputs.squeeze(), labels.squeeze())  # Fix typo\n",
    "                running_loss_valid += loss.item()\n",
    "\n",
    "                predicted = (outputs > 0.5).float()\n",
    "                correct_valid += (predicted.squeeze() == labels.squeeze()).sum().item()  # Ensure shapes match\n",
    "                total_valid += labels.size(0)\n",
    "\n",
    "            epoch_loss_valid = running_loss_valid / len(valid_loader)\n",
    "            epoch_accuracy_valid = correct_valid / total_valid\n",
    "            losses_valid.append(epoch_loss_valid)\n",
    "            accuracies_valid.append(epoch_accuracy_valid)\n",
    "            print(f\"Epoch [{epoch + 1}/{number_of_epochs}], Valid Loss: {epoch_loss_valid:.4f}, Valid Accuracy: {epoch_accuracy_valid:.4f}\")\n",
    "        \n",
    "        if best_val_loss > epoch_loss_valid + eps:\n",
    "            best_val_loss = epoch_loss_valid\n",
    "            steps_since_improvement = 0\n",
    "        else:\n",
    "            steps_since_improvement += 1\n",
    "            if steps_since_improvement == early_stopping_patience:\n",
    "                print(\"\\nEARLY STOPPING\\n\")\n",
    "                break\n",
    "\n",
    "    return losses_train, accuracies_train, losses_valid, accuracies_valid\n"
   ]
  },
  {
   "cell_type": "code",
   "execution_count": 18,
   "id": "69b36178-ee38-4b87-9d19-a0de28e1fd2e",
   "metadata": {},
   "outputs": [
    {
     "data": {
      "application/vnd.jupyter.widget-view+json": {
       "model_id": "2af8f2804d3e4e25828052e70c2a5c5c",
       "version_major": 2,
       "version_minor": 0
      },
      "text/plain": [
       "Epochs:   0%|          | 0/100 [00:00<?, ?it/s]"
      ]
     },
     "metadata": {},
     "output_type": "display_data"
    },
    {
     "name": "stdout",
     "output_type": "stream",
     "text": [
      "Epoch [1/100], Train Loss: 0.6482, Train Accuracy: 0.6350\n",
      "Epoch [1/100], Valid Loss: 0.6191, Valid Accuracy: 0.6779\n",
      "Epoch [2/100], Train Loss: 0.6246, Train Accuracy: 0.6720\n",
      "Epoch [2/100], Valid Loss: 0.6121, Valid Accuracy: 0.6839\n",
      "Epoch [3/100], Train Loss: 0.6220, Train Accuracy: 0.6790\n",
      "Epoch [3/100], Valid Loss: 0.6113, Valid Accuracy: 0.6849\n",
      "Epoch [4/100], Train Loss: 0.6182, Train Accuracy: 0.6787\n",
      "Epoch [4/100], Valid Loss: 0.6132, Valid Accuracy: 0.6827\n",
      "Epoch [5/100], Train Loss: 0.6169, Train Accuracy: 0.6809\n",
      "Epoch [5/100], Valid Loss: 0.6105, Valid Accuracy: 0.6836\n",
      "Epoch [6/100], Train Loss: 0.6157, Train Accuracy: 0.6796\n",
      "Epoch [6/100], Valid Loss: 0.6105, Valid Accuracy: 0.6838\n",
      "Epoch [7/100], Train Loss: 0.6162, Train Accuracy: 0.6799\n",
      "Epoch [7/100], Valid Loss: 0.6101, Valid Accuracy: 0.6819\n",
      "Epoch [8/100], Train Loss: 0.6148, Train Accuracy: 0.6806\n",
      "Epoch [8/100], Valid Loss: 0.6091, Valid Accuracy: 0.6838\n",
      "Epoch [9/100], Train Loss: 0.6139, Train Accuracy: 0.6814\n",
      "Epoch [9/100], Valid Loss: 0.6090, Valid Accuracy: 0.6841\n",
      "Epoch [10/100], Train Loss: 0.6128, Train Accuracy: 0.6811\n",
      "Epoch [10/100], Valid Loss: 0.6094, Valid Accuracy: 0.6828\n",
      "Epoch [11/100], Train Loss: 0.6149, Train Accuracy: 0.6804\n",
      "Epoch [11/100], Valid Loss: 0.6096, Valid Accuracy: 0.6836\n",
      "Epoch [12/100], Train Loss: 0.6132, Train Accuracy: 0.6818\n",
      "Epoch [12/100], Valid Loss: 0.6096, Valid Accuracy: 0.6834\n",
      "Epoch [13/100], Train Loss: 0.6133, Train Accuracy: 0.6811\n",
      "Epoch [13/100], Valid Loss: 0.6092, Valid Accuracy: 0.6830\n",
      "Epoch [14/100], Train Loss: 0.6148, Train Accuracy: 0.6806\n",
      "Epoch [14/100], Valid Loss: 0.6088, Valid Accuracy: 0.6838\n",
      "Epoch [15/100], Train Loss: 0.6138, Train Accuracy: 0.6819\n",
      "Epoch [15/100], Valid Loss: 0.6101, Valid Accuracy: 0.6827\n",
      "Epoch [16/100], Train Loss: 0.6122, Train Accuracy: 0.6802\n",
      "Epoch [16/100], Valid Loss: 0.6102, Valid Accuracy: 0.6845\n",
      "Epoch [17/100], Train Loss: 0.6138, Train Accuracy: 0.6805\n",
      "Epoch [17/100], Valid Loss: 0.6094, Valid Accuracy: 0.6836\n",
      "Epoch [18/100], Train Loss: 0.6123, Train Accuracy: 0.6802\n",
      "Epoch [18/100], Valid Loss: 0.6090, Valid Accuracy: 0.6828\n",
      "Epoch [19/100], Train Loss: 0.6122, Train Accuracy: 0.6818\n",
      "Epoch [19/100], Valid Loss: 0.6089, Valid Accuracy: 0.6838\n",
      "Epoch [20/100], Train Loss: 0.6114, Train Accuracy: 0.6817\n",
      "Epoch [20/100], Valid Loss: 0.6089, Valid Accuracy: 0.6823\n",
      "Epoch [21/100], Train Loss: 0.6108, Train Accuracy: 0.6810\n",
      "Epoch [21/100], Valid Loss: 0.6102, Valid Accuracy: 0.6838\n",
      "Epoch [22/100], Train Loss: 0.6123, Train Accuracy: 0.6816\n",
      "Epoch [22/100], Valid Loss: 0.6085, Valid Accuracy: 0.6843\n",
      "Epoch [23/100], Train Loss: 0.6117, Train Accuracy: 0.6802\n",
      "Epoch [23/100], Valid Loss: 0.6096, Valid Accuracy: 0.6821\n",
      "Epoch [24/100], Train Loss: 0.6116, Train Accuracy: 0.6794\n",
      "Epoch [24/100], Valid Loss: 0.6082, Valid Accuracy: 0.6834\n",
      "Epoch [25/100], Train Loss: 0.6120, Train Accuracy: 0.6818\n",
      "Epoch [25/100], Valid Loss: 0.6086, Valid Accuracy: 0.6832\n",
      "Epoch [26/100], Train Loss: 0.6128, Train Accuracy: 0.6816\n",
      "Epoch [26/100], Valid Loss: 0.6086, Valid Accuracy: 0.6847\n",
      "Epoch [27/100], Train Loss: 0.6114, Train Accuracy: 0.6816\n",
      "Epoch [27/100], Valid Loss: 0.6081, Valid Accuracy: 0.6836\n",
      "Epoch [28/100], Train Loss: 0.6104, Train Accuracy: 0.6821\n",
      "Epoch [28/100], Valid Loss: 0.6076, Valid Accuracy: 0.6832\n",
      "Epoch [29/100], Train Loss: 0.6107, Train Accuracy: 0.6809\n",
      "Epoch [29/100], Valid Loss: 0.6081, Valid Accuracy: 0.6838\n",
      "Epoch [30/100], Train Loss: 0.6126, Train Accuracy: 0.6807\n",
      "Epoch [30/100], Valid Loss: 0.6079, Valid Accuracy: 0.6825\n",
      "Epoch [31/100], Train Loss: 0.6121, Train Accuracy: 0.6826\n",
      "Epoch [31/100], Valid Loss: 0.6080, Valid Accuracy: 0.6838\n",
      "Epoch [32/100], Train Loss: 0.6116, Train Accuracy: 0.6823\n",
      "Epoch [32/100], Valid Loss: 0.6087, Valid Accuracy: 0.6832\n",
      "Epoch [33/100], Train Loss: 0.6105, Train Accuracy: 0.6810\n",
      "Epoch [33/100], Valid Loss: 0.6085, Valid Accuracy: 0.6828\n",
      "Epoch [34/100], Train Loss: 0.6112, Train Accuracy: 0.6811\n",
      "Epoch [34/100], Valid Loss: 0.6083, Valid Accuracy: 0.6827\n",
      "Epoch [35/100], Train Loss: 0.6109, Train Accuracy: 0.6820\n",
      "Epoch [35/100], Valid Loss: 0.6074, Valid Accuracy: 0.6828\n",
      "Epoch [36/100], Train Loss: 0.6076, Train Accuracy: 0.6830\n",
      "Epoch [36/100], Valid Loss: 0.6077, Valid Accuracy: 0.6830\n",
      "Epoch [37/100], Train Loss: 0.6092, Train Accuracy: 0.6825\n",
      "Epoch [37/100], Valid Loss: 0.6083, Valid Accuracy: 0.6827\n",
      "Epoch [38/100], Train Loss: 0.6102, Train Accuracy: 0.6808\n",
      "Epoch [38/100], Valid Loss: 0.6077, Valid Accuracy: 0.6812\n",
      "Epoch [39/100], Train Loss: 0.6091, Train Accuracy: 0.6820\n",
      "Epoch [39/100], Valid Loss: 0.6074, Valid Accuracy: 0.6823\n",
      "Epoch [40/100], Train Loss: 0.6113, Train Accuracy: 0.6809\n",
      "Epoch [40/100], Valid Loss: 0.6078, Valid Accuracy: 0.6812\n",
      "Epoch [41/100], Train Loss: 0.6092, Train Accuracy: 0.6813\n",
      "Epoch [41/100], Valid Loss: 0.6072, Valid Accuracy: 0.6825\n",
      "Epoch [42/100], Train Loss: 0.6092, Train Accuracy: 0.6814\n",
      "Epoch [42/100], Valid Loss: 0.6070, Valid Accuracy: 0.6817\n",
      "Epoch [43/100], Train Loss: 0.6096, Train Accuracy: 0.6820\n",
      "Epoch [43/100], Valid Loss: 0.6076, Valid Accuracy: 0.6814\n",
      "Epoch [44/100], Train Loss: 0.6083, Train Accuracy: 0.6821\n",
      "Epoch [44/100], Valid Loss: 0.6074, Valid Accuracy: 0.6810\n",
      "Epoch [45/100], Train Loss: 0.6086, Train Accuracy: 0.6813\n",
      "Epoch [45/100], Valid Loss: 0.6077, Valid Accuracy: 0.6830\n",
      "Epoch [46/100], Train Loss: 0.6091, Train Accuracy: 0.6835\n",
      "Epoch [46/100], Valid Loss: 0.6080, Valid Accuracy: 0.6832\n",
      "Epoch [47/100], Train Loss: 0.6093, Train Accuracy: 0.6816\n",
      "Epoch [47/100], Valid Loss: 0.6074, Valid Accuracy: 0.6825\n",
      "Epoch [48/100], Train Loss: 0.6089, Train Accuracy: 0.6819\n",
      "Epoch [48/100], Valid Loss: 0.6075, Valid Accuracy: 0.6816\n",
      "Epoch [49/100], Train Loss: 0.6094, Train Accuracy: 0.6819\n",
      "Epoch [49/100], Valid Loss: 0.6086, Valid Accuracy: 0.6808\n",
      "Epoch [50/100], Train Loss: 0.6084, Train Accuracy: 0.6802\n",
      "Epoch [50/100], Valid Loss: 0.6070, Valid Accuracy: 0.6821\n",
      "Epoch [51/100], Train Loss: 0.6069, Train Accuracy: 0.6807\n",
      "Epoch [51/100], Valid Loss: 0.6075, Valid Accuracy: 0.6812\n",
      "Epoch [52/100], Train Loss: 0.6089, Train Accuracy: 0.6821\n",
      "Epoch [52/100], Valid Loss: 0.6082, Valid Accuracy: 0.6821\n",
      "\n",
      "EARLY STOPPING\n",
      "\n"
     ]
    }
   ],
   "source": [
    "losses_train, accuracies_train, losses_valid, accuracies_valid = train_classification(N_EPOCHS)"
   ]
  },
  {
   "cell_type": "markdown",
   "id": "09a4a962-0481-4a43-b3ee-9d41158cf8fb",
   "metadata": {},
   "source": [
    "# <span style=\"font-size:24px; color:#552583;\">6. Plotting</span>"
   ]
  },
  {
   "cell_type": "code",
   "execution_count": 19,
   "id": "7315b98a-14ca-47ce-b37c-ae439c1964ea",
   "metadata": {},
   "outputs": [],
   "source": [
    "def plot_classification():\n",
    "    plt.figure(figsize=(14,6))\n",
    "\n",
    "    plt.subplot(1,2,1)\n",
    "    plt.title(\"Loss over Epochs\")\n",
    "    plt.xlabel(\"Epochs\")\n",
    "    plt.ylabel(\"Loss\")\n",
    "    plt.plot(range(len(losses_train)), losses_train, color = lakers_orange, label = 'Train Loss')\n",
    "    plt.plot(range(len(losses_valid)), losses_valid, color = lakers_purple, label = 'Validation Loss')\n",
    "    plt.ylim(0.58, 0.7)\n",
    "    plt.legend(loc = 'best')\n",
    "\n",
    "    plt.subplot(1,2,2)\n",
    "    plt.title(\"Accuracy over Epochs\")\n",
    "    plt.xlabel(\"Epochs\")\n",
    "    plt.ylabel(\"Accuracy\")\n",
    "    plt.plot(range(len(accuracies_train)), accuracies_train, color = lakers_orange , label = 'Train Accuracy')\n",
    "    plt.plot(range(len(accuracies_valid)), accuracies_valid, color = lakers_purple, label = 'Validation Accuracy' )\n",
    "    plt.ylim(0.66, 0.8)\n",
    "    plt.legend(loc = 'best')\n",
    "\n",
    "    plt.show()"
   ]
  },
  {
   "cell_type": "code",
   "execution_count": 20,
   "id": "926f642c-b217-45e3-8b8e-727450d274e7",
   "metadata": {},
   "outputs": [
    {
     "data": {
      "image/png": "[encoded data removed]",
      "text/plain": [
       "<Figure size 1400x600 with 2 Axes>"
      ]
     },
     "metadata": {},
     "output_type": "display_data"
    }
   ],
   "source": [
    "plot_classification()"
   ]
  },
  {
   "cell_type": "markdown",
   "id": "4f63a74d-1faf-4845-9c13-f57b03322ab5",
   "metadata": {},
   "source": [
    "# <span style=\"font-size:24px; color:#552583;\">7. Evaluation </span>"
   ]
  },
  {
   "cell_type": "code",
   "execution_count": 21,
   "id": "7d2e55c6-1281-4ed8-95a3-b1b22fceb808",
   "metadata": {},
   "outputs": [],
   "source": [
    "def evaluate_classification():\n",
    "    model.eval()\n",
    "    total_loss = 0.0\n",
    "    total_correct = 0\n",
    "    total_samples = 0\n",
    "    predicted_labels, true_labels = [], []\n",
    "    device = get_device()\n",
    "\n",
    "    with torch.no_grad():  # No gradient computation during evaluation\n",
    "        for inputs, labels in test_loader:\n",
    "            inputs, labels = inputs.to(device), labels.to(device)\n",
    "            outputs = model(inputs)\n",
    "            total_loss += criterion(outputs.squeeze(), labels.squeeze()).item()\n",
    "\n",
    "           \n",
    "            predicted = (outputs > 0.5).float()\n",
    "            predicted_labels.extend(predicted.squeeze().tolist())\n",
    "            true_labels.extend(labels.tolist())\n",
    "\n",
    "            total_samples += labels.size(0)\n",
    "\n",
    "    accuracy = metrics.accuracy_score(true_labels, predicted_labels)\n",
    "    avg_loss = total_loss / len(test_loader)\n",
    "    return avg_loss, accuracy\n"
   ]
  },
  {
   "cell_type": "code",
   "execution_count": 22,
   "id": "6bee8189-b7a6-4ee8-adfa-fc5c9706f4d6",
   "metadata": {},
   "outputs": [
    {
     "name": "stdout",
     "output_type": "stream",
     "text": [
      "Test Set: Loss: 0.6084, Accuracy: 0.6833\n"
     ]
    }
   ],
   "source": [
    "avg_loss, accuracy = evaluate_classification()\n",
    "print(f'Test Set: Loss: {avg_loss:.4f}, Accuracy: {accuracy:.4f}')"
   ]
  },
  {
   "cell_type": "code",
   "execution_count": 23,
   "id": "a081d05a-13f0-45bd-8d5d-de08a50f5bd6",
   "metadata": {},
   "outputs": [
    {
     "data": {
      "text/plain": [
       "0.6832684824902724"
      ]
     },
     "execution_count": 23,
     "metadata": {},
     "output_type": "execute_result"
    }
   ],
   "source": [
    "accuracy"
   ]
  },
  {
   "cell_type": "code",
   "execution_count": null,
   "id": "eada9a09-a4f3-45c6-ae42-1c6d24e24c6a",
   "metadata": {},
   "outputs": [],
   "source": []
  }
 ],
 "metadata": {
  "kernelspec": {
   "display_name": "Python 3 (ipykernel)",
   "language": "python",
   "name": "python3"
  },
  "language_info": {
   "codemirror_mode": {
    "name": "ipython",
    "version": 3
   },
   "file_extension": ".py",
   "mimetype": "text/x-python",
   "name": "python",
   "nbconvert_exporter": "python",
   "pygments_lexer": "ipython3",
   "version": "3.10.10"
  }
 },
 "nbformat": 4,
 "nbformat_minor": 5
}
